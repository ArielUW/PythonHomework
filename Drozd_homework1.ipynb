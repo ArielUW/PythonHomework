{
  "nbformat": 4,
  "nbformat_minor": 0,
  "metadata": {
    "colab": {
      "provenance": [],
      "authorship_tag": "ABX9TyMb78S/XsSI7FZ7cnn1mr67",
      "include_colab_link": true
    },
    "kernelspec": {
      "name": "python3",
      "display_name": "Python 3"
    },
    "language_info": {
      "name": "python"
    }
  },
  "cells": [
    {
      "cell_type": "markdown",
      "metadata": {
        "id": "view-in-github",
        "colab_type": "text"
      },
      "source": [
        "<a href=\"https://colab.research.google.com/github/ArielUW/PythonHomework/blob/main/Drozd_homework1.ipynb\" target=\"_parent\"><img src=\"https://colab.research.google.com/assets/colab-badge.svg\" alt=\"Open In Colab\"/></a>"
      ]
    },
    {
      "cell_type": "code",
      "execution_count": null,
      "metadata": {
        "id": "ObFUMZlBmFX6"
      },
      "outputs": [],
      "source": [
        "import string\n",
        "import re\n",
        "\n",
        "firstString = \"I love programming classes.\"\n",
        "secondString = \"Black is my favourite colour, unfortunately the colour black washes out of my clothes.\""
      ]
    },
    {
      "cell_type": "markdown",
      "source": [
        "### Task 1a"
      ],
      "metadata": {
        "id": "Zgn2GNHzoC5i"
      }
    },
    {
      "cell_type": "code",
      "source": [
        "def firstTaskA (text): # anwser for Task 1a\n",
        "    x = text.find('ing')\n",
        "    y = text.find('ses')\n",
        "    return text[x:y]\n",
        "\n",
        "print(firstTaskA(firstString))"
      ],
      "metadata": {
        "id": "Mh6v3lCpoFYZ"
      },
      "execution_count": null,
      "outputs": []
    },
    {
      "cell_type": "markdown",
      "source": [
        "### Task 1b"
      ],
      "metadata": {
        "id": "8a7mn95YnQ2L"
      }
    },
    {
      "cell_type": "code",
      "source": [
        "def negativeIndex (text): # anwser for Task 1b\n",
        "    text = text + \":3\"\n",
        "    return text[0:-2]\n",
        "\n",
        "print(negativeIndex(firstString))"
      ],
      "metadata": {
        "id": "alABBgv9m-Jz"
      },
      "execution_count": null,
      "outputs": []
    },
    {
      "cell_type": "markdown",
      "source": [
        "### Task 1c"
      ],
      "metadata": {
        "id": "2TD4SPCtnbOq"
      }
    },
    {
      "cell_type": "code",
      "source": [
        "def everyThird (text): # anwser for Task 1c\n",
        "    chars = []\n",
        "    index = 1\n",
        "    while index < len(text):\n",
        "        chars.append(text[index])\n",
        "        index+=3\n",
        "    return chars\n",
        "\n",
        "for i in everyThird(firstString):\n",
        "  print(i)"
      ],
      "metadata": {
        "id": "miX16iUPniKu"
      },
      "execution_count": null,
      "outputs": []
    },
    {
      "cell_type": "markdown",
      "source": [
        "### Task 2a"
      ],
      "metadata": {
        "id": "kcLKOi5foZDR"
      }
    },
    {
      "cell_type": "code",
      "source": [
        "def capitalInitials (text): # anwser for Task 2a\n",
        "    #text = text.title() # for testing\n",
        "    normalisedText = text.translate(str.maketrans('', '',string.punctuation))\n",
        "    words = normalisedText.split(\" \")\n",
        "    flag = True\n",
        "    for w in words:\n",
        "        if w[0].isupper():\n",
        "            continue\n",
        "        else:\n",
        "            flag = False\n",
        "            break\n",
        "    return flag\n",
        "\n",
        "if capitalInitials(secondString):\n",
        "  print(\"All the words in the default string begin with a capital letter.\")\n",
        "else:\n",
        "  print(\"Not all the words in the default string begin with a capital letter.\")\n",
        "while True:\n",
        "  anwser = input(\"\\nDo you want to check another string?\\n(type y to agree, anything else to decline): \")\n",
        "  if anwser == \"y\":\n",
        "    newString = input(\"Type in your string: \")\n",
        "    if capitalInitials(newString):\n",
        "      print(\"All words in your string begin with capital letters.\")\n",
        "    else:\n",
        "      print(\"Not all words in your string begin with capital letters.\")\n",
        "  else:\n",
        "    print(\"Ok 😔\")\n",
        "    break"
      ],
      "metadata": {
        "id": "lUy3sFStoi7h"
      },
      "execution_count": null,
      "outputs": []
    },
    {
      "cell_type": "markdown",
      "source": [
        "### Task 2b"
      ],
      "metadata": {
        "id": "tcU2i8YZo0Rm"
      }
    },
    {
      "cell_type": "code",
      "source": [
        "def initialC (text): # anwser for Task 2b\n",
        "    if text[0] == \"C\":\n",
        "        return True\n",
        "    else:\n",
        "        return False\n",
        "\n",
        "if initialC(secondString):\n",
        "  print(\"The default string begins with a capital C.\")\n",
        "else:\n",
        "  print(\"The default string doesn't begin with a capital C.\")\n",
        "while True:\n",
        "  anwser = input(\"\\nDo you want to check another string?\\n(type y to agree, anything else to decline): \")\n",
        "  if anwser == \"y\":\n",
        "    newString = input(\"Type in your string: \")\n",
        "    if initialC(newString):\n",
        "      print(\"Your string begins with a capital C.\")\n",
        "    else:\n",
        "      print(\"Your string doesn't begin with a capital C.\")\n",
        "  else:\n",
        "    print(\"Ok 😔\")\n",
        "    break"
      ],
      "metadata": {
        "id": "SM9BkmKaodEL"
      },
      "execution_count": null,
      "outputs": []
    },
    {
      "cell_type": "markdown",
      "source": [
        "### Task 2c"
      ],
      "metadata": {
        "id": "MJXeMCUCpbvq"
      }
    },
    {
      "cell_type": "code",
      "source": [
        "def replaceBlack (text, colour=\"blue\"): # anwser for Task 2c\n",
        "    text = text.replace(\"Black\", colour.capitalize())\n",
        "    return text.replace(\"black\", colour.lower())\n",
        "\n",
        "print(replaceBlack(secondString, \"yellow\"))\n",
        "while True:\n",
        "  anwser = input(\"\\nDo you want to replace it with another colour?\\n(type y to agree, anything else to decline): \")\n",
        "  if anwser == \"y\":\n",
        "    newColour = input(\"Type in your colour: \")\n",
        "    print(replaceBlack(secondString, newColour))\n",
        "  else:\n",
        "    print(\"Ok 😔\")\n",
        "    break"
      ],
      "metadata": {
        "id": "Qey9uYykpMZX"
      },
      "execution_count": null,
      "outputs": []
    },
    {
      "cell_type": "markdown",
      "source": [
        "### Task 2d"
      ],
      "metadata": {
        "id": "4m04VxVbp2mP"
      }
    },
    {
      "cell_type": "code",
      "source": [
        "def replaceBlackSilly (text, colour=\"lue\"): # silly anwser for Task 2d\n",
        "    # I did this one for fun, it only works for blue. I know you probably\n",
        "    # wanted us to do something with RegEx, but I couldn't help myself. It\n",
        "    # *does* meet your requirement, as there was no restriction for the colour\n",
        "    # choice!\n",
        "    return text.replace(\"lack\", colour)\n",
        "\n",
        "def replaceColour (text, newColour=\"beige\", orgColour=\"black\"): # serious anwser for Task 2d\n",
        "    # I coundn't think of a way to make it contain exactly one meaningful\n",
        "    # instance of using the replace() method, so I ended up using a different one.\n",
        "    def cases(match):\n",
        "        colour = match.group()\n",
        "        if colour.islower(): return newColour.lower()\n",
        "        if colour.istitle(): return newColour.title()\n",
        "        if colour.isupper(): return newColour.upper()\n",
        "        return newColour\n",
        "    return re.sub(orgColour, cases, text, flags=re.I)\n",
        "\n",
        "print(replaceBlackSilly(secondString))\n",
        "print(replaceColour(secondString))\n",
        "while True:\n",
        "  anwser = input(\"\\nDo you want to replace it with another colour?\\n(type y to agree, anything else to decline): \")\n",
        "  if anwser == \"y\":\n",
        "    colour = input(\"Type in your colour: \")\n",
        "    print(replaceColour(secondString, colour))\n",
        "  else:\n",
        "    print(\"Ok 😔\")\n",
        "    break"
      ],
      "metadata": {
        "id": "4pD3oqUWp5cl"
      },
      "execution_count": null,
      "outputs": []
    }
  ]
}